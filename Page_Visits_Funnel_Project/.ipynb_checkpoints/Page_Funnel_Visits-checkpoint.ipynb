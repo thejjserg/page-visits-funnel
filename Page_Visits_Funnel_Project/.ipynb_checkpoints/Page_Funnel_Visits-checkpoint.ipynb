{
 "cells": [
  {
   "cell_type": "code",
   "execution_count": 1,
   "metadata": {},
   "outputs": [],
   "source": [
    "import pandas as pd"
   ]
  },
  {
   "cell_type": "markdown",
   "metadata": {},
   "source": [
    "Import all the files"
   ]
  },
  {
   "cell_type": "code",
   "execution_count": 2,
   "metadata": {},
   "outputs": [],
   "source": [
    "visits = pd.read_csv('visits.csv',\n",
    "                     parse_dates=[1])\n",
    "cart = pd.read_csv('cart.csv',\n",
    "                   parse_dates=[1])\n",
    "                   \n",
    "checkout = pd.read_csv('checkout.csv',\n",
    "                       parse_dates=[1])\n",
    "purchase = pd.read_csv('purchase.csv',\n",
    "                       parse_dates=[1])"
   ]
  },
  {
   "cell_type": "markdown",
   "metadata": {},
   "source": [
    "Step 1: Inspect the DataFrames using `print` and `head`"
   ]
  },
  {
   "cell_type": "code",
   "execution_count": 3,
   "metadata": {},
   "outputs": [
    {
     "name": "stdout",
     "output_type": "stream",
     "text": [
      "The Visits DataFrame lists all of the users who have visited the site.\n",
      "                                user_id          visit_time\n",
      "0  943647ef-3682-4750-a2e1-918ba6f16188 2017-04-07 15:14:00\n",
      "1  0c3a3dd0-fb64-4eac-bf84-ba069ce409f2 2017-01-26 14:24:00\n",
      "2  6e0b2d60-4027-4d9a-babd-0e7d40859fb1 2017-08-20 08:23:00\n",
      "3  6879527e-c5a6-4d14-b2da-50b85212b0ab 2017-11-04 18:15:00\n",
      "4  a84327ff-5daa-4ba1-b789-d5b4caf81e96 2017-02-27 11:25:00\n",
      "The Cart DataFrame lists all of the users who have added a t-shirt to their cart.\n",
      "                                user_id           cart_time\n",
      "0  2be90e7c-9cca-44e0-bcc5-124b945ff168 2017-11-07 20:45:00\n",
      "1  4397f73f-1da3-4ab3-91af-762792e25973 2017-05-27 01:35:00\n",
      "2  a9db3d4b-0a0a-4398-a55a-ebb2c7adf663 2017-03-04 10:38:00\n",
      "3  b594862a-36c5-47d5-b818-6e9512b939b3 2017-09-27 08:22:00\n",
      "4  a68a16e2-94f0-4ce8-8ce3-784af0bbb974 2017-07-26 15:48:00\n",
      "The Checkout DataFrame lists all of the users who have started the checkout.\n",
      "                                user_id       checkout_time\n",
      "0  d33bdc47-4afa-45bc-b4e4-dbe948e34c0d 2017-06-25 09:29:00\n",
      "1  4ac186f0-9954-4fea-8a27-c081e428e34e 2017-04-07 20:11:00\n",
      "2  3c9c78a7-124a-4b77-8d2e-e1926e011e7d 2017-07-13 11:38:00\n",
      "3  89fe330a-8966-4756-8f7c-3bdbcd47279a 2017-04-20 16:15:00\n",
      "4  3ccdaf69-2d30-40de-b083-51372881aedd 2017-01-08 20:52:00\n",
      "The Purchase DataFrame lists all of the users who have purchased a t-shirt.\n",
      "                                user_id       purchase_time\n",
      "0  4b44ace4-2721-47a0-b24b-15fbfa2abf85 2017-05-11 04:25:00\n",
      "1  02e684ae-a448-408f-a9ff-dcb4a5c99aac 2017-09-05 08:45:00\n",
      "2  4b4bc391-749e-4b90-ab8f-4f6e3c84d6dc 2017-11-20 20:49:00\n",
      "3  a5dbb25f-3c36-4103-9030-9f7c6241cd8d 2017-01-22 15:18:00\n",
      "4  46a3186d-7f5a-4ab9-87af-84d05bfd4867 2017-06-11 11:32:00\n"
     ]
    }
   ],
   "source": [
    "print('The Visits DataFrame lists all of the users who have visited the site.')\n",
    "print(visits.head(5))\n",
    "print('The Cart DataFrame lists all of the users who have added a t-shirt to their cart.')\n",
    "print(cart.head(5))\n",
    "print('The Checkout DataFrame lists all of the users who have started the checkout.')\n",
    "print(checkout.head(5))\n",
    "print('The Purchase DataFrame lists all of the users who have purchased a t-shirt.')\n",
    "print(purchase.head(5))"
   ]
  },
  {
   "cell_type": "markdown",
   "metadata": {},
   "source": [
    "Step 2: Left merging visits and cart"
   ]
  },
  {
   "cell_type": "code",
   "execution_count": 4,
   "metadata": {},
   "outputs": [
    {
     "name": "stdout",
     "output_type": "stream",
     "text": [
      "This DataFrame is a left merge of Visits and Cart.\n",
      "This left merge includes all rows from Visits, but only rows from Cart that match Visits.\n",
      "Any NA values in cart_time are rows in which that particular visit in Visits does not have any value in Cart.\n",
      "                                user_id          visit_time  \\\n",
      "0  943647ef-3682-4750-a2e1-918ba6f16188 2017-04-07 15:14:00   \n",
      "1  0c3a3dd0-fb64-4eac-bf84-ba069ce409f2 2017-01-26 14:24:00   \n",
      "2  6e0b2d60-4027-4d9a-babd-0e7d40859fb1 2017-08-20 08:23:00   \n",
      "3  6879527e-c5a6-4d14-b2da-50b85212b0ab 2017-11-04 18:15:00   \n",
      "4  a84327ff-5daa-4ba1-b789-d5b4caf81e96 2017-02-27 11:25:00   \n",
      "\n",
      "            cart_time  \n",
      "0                 NaT  \n",
      "1 2017-01-26 14:44:00  \n",
      "2 2017-08-20 08:31:00  \n",
      "3                 NaT  \n",
      "4                 NaT  \n"
     ]
    }
   ],
   "source": [
    "visits_cart = pd.merge(visits, cart, how = 'left')\n",
    "print('This DataFrame is a left merge of Visits and Cart.')\n",
    "print('This left merge includes all rows from Visits, but only rows from Cart that match Visits.')\n",
    "print('Any NA values in cart_time are rows in which that particular visit in Visits does not have any value in Cart.')\n",
    "print(visits_cart.head(5))"
   ]
  },
  {
   "cell_type": "markdown",
   "metadata": {},
   "source": [
    "Step 3: How long is `visits_cart`?"
   ]
  },
  {
   "cell_type": "code",
   "execution_count": 5,
   "metadata": {},
   "outputs": [
    {
     "name": "stdout",
     "output_type": "stream",
     "text": [
      "visits_cart is 2000 observations.\n"
     ]
    }
   ],
   "source": [
    "length_of_visits_cart = len(visits_cart)\n",
    "print(\"visits_cart is \" + str(length_of_visits_cart) + \" observations.\")"
   ]
  },
  {
   "cell_type": "markdown",
   "metadata": {},
   "source": [
    "Step 4: How many timestamps are null for `cart_time`?"
   ]
  },
  {
   "cell_type": "code",
   "execution_count": 6,
   "metadata": {},
   "outputs": [
    {
     "name": "stdout",
     "output_type": "stream",
     "text": [
      "There are 1652 timestamps that are null in cart_time.\n"
     ]
    }
   ],
   "source": [
    "# Create a DataFrame that contains only the rows where cart_time is NaT. \n",
    "# We will use the .isnull() to check for NA values\n",
    "cart_time_null = visits_cart[visits_cart.cart_time.isnull()]\n",
    "print('There are ' + str(len(cart_time_null)) + ' timestamps that are null in cart_time.')\n"
   ]
  },
  {
   "cell_type": "markdown",
   "metadata": {},
   "source": [
    "Step 5: What percentage only visited?"
   ]
  },
  {
   "cell_type": "code",
   "execution_count": 7,
   "metadata": {},
   "outputs": [
    {
     "name": "stdout",
     "output_type": "stream",
     "text": [
      "The percentage of users who only visited the site is 82.6%.\n"
     ]
    }
   ],
   "source": [
    "# From Codecademy - Note: To calculate percentages, it will be helpful to turn either the numerator or \n",
    "# the denominator into a float, by using float(), with the number to convert passed in as input. \n",
    "# Otherwise, Python will use integer division, which truncates decimal points.\n",
    "\n",
    "\n",
    "# If a row of your merged DataFrame has cart_time equal to null, then that user visited the website, but did not place a t-shirt in their cart.\n",
    "# To calculate the percentage of users that only visited, we will require\n",
    "# Number of Users that Did Not have Cart Time (Only Visiting) and divide it by the\n",
    "# Number of Users that Visted (All Users)\n",
    "\n",
    "all_users = len(visits_cart)\n",
    "# cart_time_null was already defined in the last step, so we will use it to find the length\n",
    "only_visit = len(cart_time_null)\n",
    "\n",
    "\n",
    "# Calculate the percentage\n",
    "only_visit_percentage = float(only_visit) / float(all_users)\n",
    "\n",
    "# Display the answer\n",
    "print('The percentage of users who only visited the site is ' + str(only_visit_percentage * 100) + \"%.\")"
   ]
  },
  {
   "cell_type": "markdown",
   "metadata": {},
   "source": [
    "Step 6: What percentage placed a t-shirt in their cart but did not checkout?"
   ]
  },
  {
   "cell_type": "code",
   "execution_count": 8,
   "metadata": {},
   "outputs": [
    {
     "name": "stdout",
     "output_type": "stream",
     "text": [
      "There are 122 timestamps that are null in cart_time.\n",
      "There are 348 observations in the DataFrame.\n",
      "The percentage of users who only put items in the cart and did not checkout is 35.05747126436782%.\n"
     ]
    }
   ],
   "source": [
    "# Repeat the left merge for cart and checkout and count null values. \n",
    "# What percentage of users put items in their cart, but did not proceed to checkout?\n",
    "\n",
    "# We will combine the Cart and Checkout DataFrames using a Left-Join\n",
    "cart_checkout = pd.merge(cart, checkout, how = 'left')\n",
    "\n",
    "# We will define the amount of NAs in checkout_time\n",
    "checkout_null = cart_checkout[cart_checkout.checkout_time.isnull()]\n",
    "checkout_null_count = len(checkout_null)\n",
    "print('There are ' + str(checkout_null_count) + ' timestamps that are null in cart_time.')\n",
    "\n",
    "# We will define the amount of users that put items in the Cart.\n",
    "all_users = len(cart_checkout)\n",
    "print('There are ' + str(all_users) + ' observations in the DataFrame.')\n",
    "\n",
    "# Calculate the percentage\n",
    "cart_no_checkout_percentage = float(checkout_null_count) / float(all_users)\n",
    "\n",
    "# Display the answer\n",
    "print('The percentage of users who only put items in the cart and did not checkout is ' + str(cart_no_checkout_percentage * 100) + \"%.\")\n"
   ]
  },
  {
   "cell_type": "markdown",
   "metadata": {},
   "source": [
    "Step 7: Merge it all together"
   ]
  },
  {
   "cell_type": "code",
   "execution_count": 9,
   "metadata": {},
   "outputs": [
    {
     "name": "stdout",
     "output_type": "stream",
     "text": [
      "                                user_id          visit_time  \\\n",
      "0  943647ef-3682-4750-a2e1-918ba6f16188 2017-04-07 15:14:00   \n",
      "1  0c3a3dd0-fb64-4eac-bf84-ba069ce409f2 2017-01-26 14:24:00   \n",
      "2  6e0b2d60-4027-4d9a-babd-0e7d40859fb1 2017-08-20 08:23:00   \n",
      "3  6879527e-c5a6-4d14-b2da-50b85212b0ab 2017-11-04 18:15:00   \n",
      "4  a84327ff-5daa-4ba1-b789-d5b4caf81e96 2017-02-27 11:25:00   \n",
      "\n",
      "            cart_time       checkout_time       purchase_time  \n",
      "0                 NaT                 NaT                 NaT  \n",
      "1 2017-01-26 14:44:00 2017-01-26 14:54:00 2017-01-26 15:08:00  \n",
      "2 2017-08-20 08:31:00                 NaT                 NaT  \n",
      "3                 NaT                 NaT                 NaT  \n",
      "4                 NaT                 NaT                 NaT  \n"
     ]
    }
   ],
   "source": [
    "# Merge all four steps of the funnel, in order, using a series of left merges. \n",
    "# Save the results to the variable all_data.\n",
    "\n",
    "# Define Merge Function\n",
    "def merge_dataframes(left, right):\n",
    "    df = pd.merge(left, right, how = 'left')\n",
    "    return df\n",
    "\n",
    "# The Four DataFrames are visits, cart, checkout, purchase\n",
    "\n",
    "# Define the first left dataframe\n",
    "df1 = merge_dataframes(visits, cart)\n",
    "\n",
    "# Define the second dataframe\n",
    "df2 = merge_dataframes(df1, checkout)\n",
    "\n",
    "# Define the final dataframe\n",
    "all_data = merge_dataframes(df2, purchase)\n",
    "\n",
    "# Check that all_data was produced correctly\n",
    "print(all_data.head(5))\n"
   ]
  },
  {
   "cell_type": "markdown",
   "metadata": {},
   "source": [
    "Step 8: % of users who got to checkout but did not purchase"
   ]
  },
  {
   "cell_type": "code",
   "execution_count": 10,
   "metadata": {},
   "outputs": [
    {
     "name": "stdout",
     "output_type": "stream",
     "text": [
      "There are 82 timestamps that are null in purchase_time.\n",
      "There are 334 observations in the DataFrame.\n",
      "The percentage of users who only got to checkout and did not purchase a t-shirt is 24.550898203592812%.\n"
     ]
    }
   ],
   "source": [
    "# Repeat the left merge for all_data, specifically, checkout and purchase, and count null values. \n",
    "# What percentage of users put items in their cart, but did not proceed to checkout?\n",
    "\n",
    "# We will define the Checkout and Purchase DataFrame from all_data\n",
    "# We need to do this because Checkout Data with NAs are difficult to work with\n",
    "checkout_purchase = all_data[~all_data.checkout_time.isnull()]\n",
    "\n",
    "# We will define the amount of NAs in purchase_time\n",
    "purchase_null = checkout_purchase[checkout_purchase.purchase_time.isnull()]\n",
    "purchase_null_count = len(purchase_null)\n",
    "print('There are ' + str(purchase_null_count) + ' timestamps that are null in purchase_time.')\n",
    "\n",
    "# We will define the amount of users that have entered the Checkout area.\n",
    "checkout_purchase_count = len(checkout_purchase)\n",
    "print('There are ' + str(checkout_purchase_count) + ' observations in the DataFrame.')\n",
    "\n",
    "# Calculate the percentage\n",
    "checkout_no_purchase_percentage = float(purchase_null_count) / float(checkout_purchase_count)\n",
    "\n",
    "# Display the answer\n",
    "print('The percentage of users who only got to checkout and did not purchase a t-shirt is ' + str(checkout_no_purchase_percentage * 100) + \"%.\")\n"
   ]
  },
  {
   "cell_type": "markdown",
   "metadata": {},
   "source": [
    "Step 9: check each part of the funnel, let's print all 3 of them again"
   ]
  },
  {
   "cell_type": "code",
   "execution_count": 11,
   "metadata": {},
   "outputs": [
    {
     "name": "stdout",
     "output_type": "stream",
     "text": [
      "The percentage of users who only visited the site is 82.6%.\n",
      "The percentage of users who only put items in the cart and did not checkout is 35.06%.\n",
      "The percentage of users who only got to checkout and did not purchase a t-shirt is 24.55%.\n"
     ]
    }
   ],
   "source": [
    "# Which step of the funnel is weakest (i.e., has the highest percentage of users not completing it)?\n",
    "# How might Cool T-Shirts Inc. change their website to fix this problem?\n",
    "\n",
    "print('The percentage of users who only visited the site is ' + str(only_visit_percentage * 100) + \"%.\")\n",
    "print('The percentage of users who only put items in the cart and did not checkout is ' + str(round(cart_no_checkout_percentage * 100, 2)) + \"%.\")\n",
    "print('The percentage of users who only got to checkout and did not purchase a t-shirt is ' + str(round(checkout_no_purchase_percentage * 100, 2)) + \"%.\")\n"
   ]
  },
  {
   "cell_type": "markdown",
   "metadata": {},
   "source": [
    "*The weakest part of the funnel is clearly getting a person who visited the site to add a tshirt to their cart. Once they've added a t-shirt to their cart it is fairly likely they end up purchasing it. A suggestion could be to make the add-to-cart button more prominent on the front page.*\n",
    "\n",
    "\n",
    "Step 10: adding new column"
   ]
  },
  {
   "cell_type": "code",
   "execution_count": 12,
   "metadata": {},
   "outputs": [],
   "source": [
    "# Using the giant merged DataFrame all_data that you created, \n",
    "# let’s calculate the average time from initial visit to final purchase. \n",
    "# Add a column that is the difference between purchase_time and visit_time.\n",
    "\n",
    "all_data['time_to_purchase'] = all_data['purchase_time'] - all_data['visit_time']"
   ]
  },
  {
   "cell_type": "markdown",
   "metadata": {},
   "source": [
    "Step 11: examine the results"
   ]
  },
  {
   "cell_type": "code",
   "execution_count": 13,
   "metadata": {},
   "outputs": [
    {
     "name": "stdout",
     "output_type": "stream",
     "text": [
      "0               NaT\n",
      "1   0 days 00:44:00\n",
      "2               NaT\n",
      "3               NaT\n",
      "4               NaT\n",
      "5               NaT\n",
      "6               NaT\n",
      "7               NaT\n",
      "8               NaT\n",
      "9               NaT\n",
      "Name: time_to_purchase, dtype: timedelta64[ns]\n"
     ]
    }
   ],
   "source": [
    "# Examine the results by printing the new column to the screen.\n",
    "print(all_data['time_to_purchase'].head(10))"
   ]
  },
  {
   "cell_type": "markdown",
   "metadata": {},
   "source": [
    "Step 12: average time to purchase"
   ]
  },
  {
   "cell_type": "code",
   "execution_count": 14,
   "metadata": {},
   "outputs": [
    {
     "name": "stdout",
     "output_type": "stream",
     "text": [
      "The average time to purchase a t-shirt for those that do purchase an item is 0 days 00:43:12.380952380 HH:MM:SS.\n"
     ]
    }
   ],
   "source": [
    "avg_time_to_purchase = all_data['time_to_purchase'].mean()\n",
    "print('The average time to purchase a t-shirt for those that do purchase an item is ' + str(avg_time_to_purchase) + \" HH:MM:SS.\")"
   ]
  },
  {
   "cell_type": "code",
   "execution_count": null,
   "metadata": {},
   "outputs": [],
   "source": []
  }
 ],
 "metadata": {
  "kernelspec": {
   "display_name": "Python 3 (ipykernel)",
   "language": "python",
   "name": "python3"
  },
  "language_info": {
   "codemirror_mode": {
    "name": "ipython",
    "version": 3
   },
   "file_extension": ".py",
   "mimetype": "text/x-python",
   "name": "python",
   "nbconvert_exporter": "python",
   "pygments_lexer": "ipython3",
   "version": "3.11.5"
  }
 },
 "nbformat": 4,
 "nbformat_minor": 4
}
